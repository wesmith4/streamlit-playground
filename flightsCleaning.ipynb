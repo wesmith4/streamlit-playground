{
 "cells": [
  {
   "cell_type": "code",
   "execution_count": 46,
   "metadata": {},
   "outputs": [],
   "source": [
    "import pandas as pd"
   ]
  },
  {
   "cell_type": "code",
   "execution_count": 47,
   "metadata": {},
   "outputs": [],
   "source": [
    "# Data Imports\n",
    "airlines = pd.read_csv('./data/airlines.csv')\n",
    "airplanes = pd.read_csv('./data/airplanes.csv')\n",
    "airports = pd.read_csv('./data/airports.csv')\n",
    "routes = pd.read_csv('./data/routes.csv')"
   ]
  },
  {
   "cell_type": "code",
   "execution_count": 48,
   "metadata": {},
   "outputs": [
    {
     "name": "stdout",
     "output_type": "stream",
     "text": [
      "<class 'pandas.core.frame.DataFrame'>\n",
      "RangeIndex: 7698 entries, 0 to 7697\n",
      "Data columns (total 14 columns):\n",
      " #   Column                 Non-Null Count  Dtype  \n",
      "---  ------                 --------------  -----  \n",
      " 0   Airport ID             7698 non-null   int64  \n",
      " 1   Name                   7698 non-null   object \n",
      " 2   City                   7649 non-null   object \n",
      " 3   Country                7698 non-null   object \n",
      " 4   IATA                   7698 non-null   object \n",
      " 5   ICAO                   7698 non-null   object \n",
      " 6   Latitude               7698 non-null   float64\n",
      " 7   Longitude              7698 non-null   float64\n",
      " 8   Altitude               7698 non-null   int64  \n",
      " 9   Timezone               7698 non-null   object \n",
      " 10  DST                    7698 non-null   object \n",
      " 11  Tz database time zone  7698 non-null   object \n",
      " 12  Type                   7698 non-null   object \n",
      " 13  Source                 7698 non-null   object \n",
      "dtypes: float64(2), int64(2), object(10)\n",
      "memory usage: 842.1+ KB\n"
     ]
    }
   ],
   "source": [
    "airports.info()"
   ]
  },
  {
   "cell_type": "code",
   "execution_count": 49,
   "metadata": {},
   "outputs": [
    {
     "name": "stdout",
     "output_type": "stream",
     "text": [
      "<class 'pandas.core.frame.DataFrame'>\n",
      "RangeIndex: 67663 entries, 0 to 67662\n",
      "Data columns (total 9 columns):\n",
      " #   Column                  Non-Null Count  Dtype \n",
      "---  ------                  --------------  ----- \n",
      " 0   Airline                 67663 non-null  object\n",
      " 1   Airline ID              67663 non-null  object\n",
      " 2   Source airport          67663 non-null  object\n",
      " 3   Source airport ID       67663 non-null  object\n",
      " 4   Destination airport     67663 non-null  object\n",
      " 5   Destination airport ID  67663 non-null  object\n",
      " 6   Codeshare               14597 non-null  object\n",
      " 7   Stops                   67663 non-null  int64 \n",
      " 8   Equipment               67645 non-null  object\n",
      "dtypes: int64(1), object(8)\n",
      "memory usage: 4.6+ MB\n"
     ]
    }
   ],
   "source": [
    "routes.info()"
   ]
  },
  {
   "cell_type": "code",
   "execution_count": 50,
   "metadata": {},
   "outputs": [
    {
     "name": "stderr",
     "output_type": "stream",
     "text": [
      "/Users/willsmith/opt/anaconda3/lib/python3.8/site-packages/pandas/core/frame.py:3065: SettingWithCopyWarning: \n",
      "A value is trying to be set on a copy of a slice from a DataFrame.\n",
      "Try using .loc[row_indexer,col_indexer] = value instead\n",
      "\n",
      "See the caveats in the documentation: https://pandas.pydata.org/pandas-docs/stable/user_guide/indexing.html#returning-a-view-versus-a-copy\n",
      "  self[k1] = value[k2]\n"
     ]
    }
   ],
   "source": [
    "valid_routes = routes[routes['Destination airport ID'].str.isnumeric() & routes['Source airport ID'].str.isnumeric()]\n",
    "valid_routes[['Source airport ID', 'Destination airport ID']] = valid_routes[['Source airport ID', 'Destination airport ID']].astype(int)"
   ]
  },
  {
   "cell_type": "code",
   "execution_count": 51,
   "metadata": {},
   "outputs": [],
   "source": [
    "src_locs = airports[['Name', 'IATA', 'City', 'Country', 'Latitude', 'Longitude']].copy()\n",
    "dest_locs = src_locs.copy()\n",
    "# src_locs = src_locs.rename(columns={'Latitude': 'src_lat', 'Longitude': 'src_long'})\n",
    "# dest_locs = dest_locs.rename(columns={'Latitude': 'dest_lat', 'Longitude': 'dest_long'})\n",
    "src_locs = src_locs.add_prefix('src_')\n",
    "dest_locs = dest_locs.add_prefix('dest_')"
   ]
  },
  {
   "cell_type": "code",
   "execution_count": 53,
   "metadata": {},
   "outputs": [],
   "source": [
    "full = pd.merge(routes, src_locs, left_on='Source airport', right_on='src_IATA', how='left')\n",
    "full = pd.merge(full, dest_locs, left_on='Destination airport', right_on='dest_IATA', how='left')"
   ]
  },
  {
   "cell_type": "code",
   "execution_count": 55,
   "metadata": {},
   "outputs": [],
   "source": [
    "# Export dataset to file\n",
    "full.to_csv('routes.csv',index=False)"
   ]
  },
  {
   "cell_type": "code",
   "execution_count": 57,
   "metadata": {},
   "outputs": [
    {
     "data": {
      "text/html": [
       "<div>\n",
       "<style scoped>\n",
       "    .dataframe tbody tr th:only-of-type {\n",
       "        vertical-align: middle;\n",
       "    }\n",
       "\n",
       "    .dataframe tbody tr th {\n",
       "        vertical-align: top;\n",
       "    }\n",
       "\n",
       "    .dataframe thead th {\n",
       "        text-align: right;\n",
       "    }\n",
       "</style>\n",
       "<table border=\"1\" class=\"dataframe\">\n",
       "  <thead>\n",
       "    <tr style=\"text-align: right;\">\n",
       "      <th></th>\n",
       "      <th>Airline ID</th>\n",
       "      <th>Name</th>\n",
       "      <th>Alias</th>\n",
       "      <th>IATA</th>\n",
       "      <th>ICAO</th>\n",
       "      <th>Callsign</th>\n",
       "      <th>Country</th>\n",
       "      <th>Active</th>\n",
       "    </tr>\n",
       "  </thead>\n",
       "  <tbody>\n",
       "    <tr>\n",
       "      <th>0</th>\n",
       "      <td>-1</td>\n",
       "      <td>Unknown</td>\n",
       "      <td>\\N</td>\n",
       "      <td>-</td>\n",
       "      <td>NaN</td>\n",
       "      <td>\\N</td>\n",
       "      <td>\\N</td>\n",
       "      <td>Y</td>\n",
       "    </tr>\n",
       "    <tr>\n",
       "      <th>1</th>\n",
       "      <td>1</td>\n",
       "      <td>Private flight</td>\n",
       "      <td>\\N</td>\n",
       "      <td>-</td>\n",
       "      <td>NaN</td>\n",
       "      <td>NaN</td>\n",
       "      <td>NaN</td>\n",
       "      <td>Y</td>\n",
       "    </tr>\n",
       "    <tr>\n",
       "      <th>2</th>\n",
       "      <td>2</td>\n",
       "      <td>135 Airways</td>\n",
       "      <td>\\N</td>\n",
       "      <td>NaN</td>\n",
       "      <td>GNL</td>\n",
       "      <td>GENERAL</td>\n",
       "      <td>United States</td>\n",
       "      <td>N</td>\n",
       "    </tr>\n",
       "    <tr>\n",
       "      <th>3</th>\n",
       "      <td>3</td>\n",
       "      <td>1Time Airline</td>\n",
       "      <td>\\N</td>\n",
       "      <td>1T</td>\n",
       "      <td>RNX</td>\n",
       "      <td>NEXTIME</td>\n",
       "      <td>South Africa</td>\n",
       "      <td>Y</td>\n",
       "    </tr>\n",
       "    <tr>\n",
       "      <th>4</th>\n",
       "      <td>4</td>\n",
       "      <td>2 Sqn No 1 Elementary Flying Training School</td>\n",
       "      <td>\\N</td>\n",
       "      <td>NaN</td>\n",
       "      <td>WYT</td>\n",
       "      <td>NaN</td>\n",
       "      <td>United Kingdom</td>\n",
       "      <td>N</td>\n",
       "    </tr>\n",
       "    <tr>\n",
       "      <th>...</th>\n",
       "      <td>...</td>\n",
       "      <td>...</td>\n",
       "      <td>...</td>\n",
       "      <td>...</td>\n",
       "      <td>...</td>\n",
       "      <td>...</td>\n",
       "      <td>...</td>\n",
       "      <td>...</td>\n",
       "    </tr>\n",
       "    <tr>\n",
       "      <th>6157</th>\n",
       "      <td>21248</td>\n",
       "      <td>GX Airlines</td>\n",
       "      <td>NaN</td>\n",
       "      <td>NaN</td>\n",
       "      <td>CBG</td>\n",
       "      <td>SPRAY</td>\n",
       "      <td>China</td>\n",
       "      <td>Y</td>\n",
       "    </tr>\n",
       "    <tr>\n",
       "      <th>6158</th>\n",
       "      <td>21251</td>\n",
       "      <td>Lynx Aviation (L3/SSX)</td>\n",
       "      <td>NaN</td>\n",
       "      <td>NaN</td>\n",
       "      <td>SSX</td>\n",
       "      <td>Shasta</td>\n",
       "      <td>United States</td>\n",
       "      <td>N</td>\n",
       "    </tr>\n",
       "    <tr>\n",
       "      <th>6159</th>\n",
       "      <td>21268</td>\n",
       "      <td>Jetgo Australia</td>\n",
       "      <td>NaN</td>\n",
       "      <td>JG</td>\n",
       "      <td>\\N</td>\n",
       "      <td>NaN</td>\n",
       "      <td>Australia</td>\n",
       "      <td>Y</td>\n",
       "    </tr>\n",
       "    <tr>\n",
       "      <th>6160</th>\n",
       "      <td>21270</td>\n",
       "      <td>Air Carnival</td>\n",
       "      <td>NaN</td>\n",
       "      <td>2S</td>\n",
       "      <td>\\N</td>\n",
       "      <td>NaN</td>\n",
       "      <td>India</td>\n",
       "      <td>Y</td>\n",
       "    </tr>\n",
       "    <tr>\n",
       "      <th>6161</th>\n",
       "      <td>21317</td>\n",
       "      <td>Svyaz Rossiya</td>\n",
       "      <td>Russian Commuter</td>\n",
       "      <td>7R</td>\n",
       "      <td>SJM</td>\n",
       "      <td>RussianConnecty</td>\n",
       "      <td>Russia</td>\n",
       "      <td>Y</td>\n",
       "    </tr>\n",
       "  </tbody>\n",
       "</table>\n",
       "<p>6162 rows × 8 columns</p>\n",
       "</div>"
      ],
      "text/plain": [
       "      Airline ID                                          Name  \\\n",
       "0             -1                                       Unknown   \n",
       "1              1                                Private flight   \n",
       "2              2                                   135 Airways   \n",
       "3              3                                 1Time Airline   \n",
       "4              4  2 Sqn No 1 Elementary Flying Training School   \n",
       "...          ...                                           ...   \n",
       "6157       21248                                   GX Airlines   \n",
       "6158       21251                        Lynx Aviation (L3/SSX)   \n",
       "6159       21268                               Jetgo Australia   \n",
       "6160       21270                                  Air Carnival   \n",
       "6161       21317                                 Svyaz Rossiya   \n",
       "\n",
       "                  Alias IATA ICAO         Callsign         Country Active  \n",
       "0                    \\N    -  NaN               \\N              \\N      Y  \n",
       "1                    \\N    -  NaN              NaN             NaN      Y  \n",
       "2                    \\N  NaN  GNL          GENERAL   United States      N  \n",
       "3                    \\N   1T  RNX          NEXTIME    South Africa      Y  \n",
       "4                    \\N  NaN  WYT              NaN  United Kingdom      N  \n",
       "...                 ...  ...  ...              ...             ...    ...  \n",
       "6157                NaN  NaN  CBG            SPRAY           China      Y  \n",
       "6158                NaN  NaN  SSX           Shasta   United States      N  \n",
       "6159                NaN   JG   \\N              NaN       Australia      Y  \n",
       "6160                NaN   2S   \\N              NaN           India      Y  \n",
       "6161  Russian Commuter    7R  SJM  RussianConnecty          Russia      Y  \n",
       "\n",
       "[6162 rows x 8 columns]"
      ]
     },
     "execution_count": 57,
     "metadata": {},
     "output_type": "execute_result"
    }
   ],
   "source": [
    "airlines"
   ]
  },
  {
   "cell_type": "code",
   "execution_count": null,
   "metadata": {},
   "outputs": [],
   "source": []
  }
 ],
 "metadata": {
  "kernelspec": {
   "display_name": "Python 3",
   "language": "python",
   "name": "python3"
  },
  "language_info": {
   "codemirror_mode": {
    "name": "ipython",
    "version": 3
   },
   "file_extension": ".py",
   "mimetype": "text/x-python",
   "name": "python",
   "nbconvert_exporter": "python",
   "pygments_lexer": "ipython3",
   "version": "3.8.5"
  }
 },
 "nbformat": 4,
 "nbformat_minor": 4
}
